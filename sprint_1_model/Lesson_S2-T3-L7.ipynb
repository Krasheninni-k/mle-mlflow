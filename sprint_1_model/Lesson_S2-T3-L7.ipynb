{
 "cells": [
  {
   "cell_type": "code",
   "execution_count": 1,
   "metadata": {},
   "outputs": [
    {
     "name": "stdout",
     "output_type": "stream",
     "text": [
      "Entityset: transactions\n",
      "  DataFrames:\n",
      "    transactions [Rows: 500, Columns: 6]\n",
      "    products [Rows: 5, Columns: 3]\n",
      "    sessions [Rows: 35, Columns: 5]\n",
      "    customers [Rows: 5, Columns: 5]\n",
      "  Relationships:\n",
      "    transactions.product_id -> products.product_id\n",
      "    transactions.session_id -> sessions.session_id\n",
      "    sessions.customer_id -> customers.customer_id\n"
     ]
    },
    {
     "name": "stderr",
     "output_type": "stream",
     "text": [
      "/home/mle-user/mle_projects/mle-mlflow/.venv_mle_mlflow/lib/python3.10/site-packages/woodwork/type_sys/utils.py:33: UserWarning: Could not infer format, so each element will be parsed individually, falling back to `dateutil`. To ensure parsing is consistent and as-expected, please specify a format.\n",
      "  pd.to_datetime(\n",
      "/home/mle-user/mle_projects/mle-mlflow/.venv_mle_mlflow/lib/python3.10/site-packages/woodwork/type_sys/utils.py:33: UserWarning: Could not infer format, so each element will be parsed individually, falling back to `dateutil`. To ensure parsing is consistent and as-expected, please specify a format.\n",
      "  pd.to_datetime(\n",
      "/home/mle-user/mle_projects/mle-mlflow/.venv_mle_mlflow/lib/python3.10/site-packages/woodwork/type_sys/utils.py:33: UserWarning: Could not infer format, so each element will be parsed individually, falling back to `dateutil`. To ensure parsing is consistent and as-expected, please specify a format.\n",
      "  pd.to_datetime(\n",
      "/home/mle-user/mle_projects/mle-mlflow/.venv_mle_mlflow/lib/python3.10/site-packages/woodwork/type_sys/utils.py:33: UserWarning: Could not infer format, so each element will be parsed individually, falling back to `dateutil`. To ensure parsing is consistent and as-expected, please specify a format.\n",
      "  pd.to_datetime(\n"
     ]
    }
   ],
   "source": [
    "import featuretools as ft\n",
    "\n",
    "es = ft.demo.load_mock_customer(return_entityset=True)\n",
    "print(es)"
   ]
  },
  {
   "cell_type": "code",
   "execution_count": 2,
   "metadata": {},
   "outputs": [
    {
     "name": "stdout",
     "output_type": "stream",
     "text": [
      "   customer_id zip_code           join_date   birthday\n",
      "0            1    60091 2011-04-17 10:48:33 1994-07-18\n",
      "1            2    13244 2012-04-15 23:31:04 1986-08-18\n",
      "2            3    13244 2011-08-13 15:42:34 2003-11-21\n",
      "3            4    60091 2011-04-08 20:08:14 2006-08-15\n",
      "4            5    60091 2010-07-17 05:27:50 1984-07-28\n",
      "   transaction_id  session_id    transaction_time product_id  amount   \n",
      "0              10           1 2014-01-01 00:00:00          5  127.64  \\\n",
      "1               2           1 2014-01-01 00:01:05          2  109.48   \n",
      "\n",
      "   customer_id   device session_start zip_code           join_date   birthday  \n",
      "0            2  desktop    2014-01-01    13244 2012-04-15 23:31:04 1986-08-18  \n",
      "1            2  desktop    2014-01-01    13244 2012-04-15 23:31:04 1986-08-18  \n",
      "Entityset: transactions\n",
      "  DataFrames:\n",
      "    transactions [Rows: 500, Columns: 11]\n",
      "    products [Rows: 5, Columns: 2]\n",
      "    sessions [Rows: 35, Columns: 5]\n",
      "    customers [Rows: 5, Columns: 5]\n",
      "  Relationships:\n",
      "    transactions.product_id -> products.product_id\n",
      "    transactions.session_id -> sessions.session_id\n",
      "    sessions.customer_id -> customers.customer_id\n"
     ]
    },
    {
     "name": "stderr",
     "output_type": "stream",
     "text": [
      "/home/mle-user/mle_projects/mle-mlflow/.venv_mle_mlflow/lib/python3.10/site-packages/woodwork/type_sys/utils.py:33: UserWarning: Could not infer format, so each element will be parsed individually, falling back to `dateutil`. To ensure parsing is consistent and as-expected, please specify a format.\n",
      "  pd.to_datetime(\n",
      "/home/mle-user/mle_projects/mle-mlflow/.venv_mle_mlflow/lib/python3.10/site-packages/woodwork/type_sys/utils.py:33: UserWarning: Could not infer format, so each element will be parsed individually, falling back to `dateutil`. To ensure parsing is consistent and as-expected, please specify a format.\n",
      "  pd.to_datetime(\n",
      "/home/mle-user/mle_projects/mle-mlflow/.venv_mle_mlflow/lib/python3.10/site-packages/woodwork/type_sys/utils.py:33: UserWarning: Could not infer format, so each element will be parsed individually, falling back to `dateutil`. To ensure parsing is consistent and as-expected, please specify a format.\n",
      "  pd.to_datetime(\n",
      "/home/mle-user/mle_projects/mle-mlflow/.venv_mle_mlflow/lib/python3.10/site-packages/woodwork/type_sys/utils.py:33: UserWarning: Could not infer format, so each element will be parsed individually, falling back to `dateutil`. To ensure parsing is consistent and as-expected, please specify a format.\n",
      "  pd.to_datetime(\n",
      "/home/mle-user/mle_projects/mle-mlflow/.venv_mle_mlflow/lib/python3.10/site-packages/featuretools/entityset/entityset.py:358: UserWarning: Not adding duplicate relationship: <Relationship: transactions.product_id -> products.product_id>\n",
      "  warnings.warn(\"Not adding duplicate relationship: \" + str(relationship))\n"
     ]
    }
   ],
   "source": [
    "import featuretools as ft\n",
    "from woodwork.logical_types import Categorical, PostalCode\n",
    "\n",
    "data = ft.demo.load_mock_customer()\n",
    "print(data['customers'])\n",
    "transactions_df = data[\"transactions\"].merge(data[\"sessions\"]).merge(data[\"customers\"])\n",
    "print(transactions_df.head(2))\n",
    "products_df = data[\"products\"]\n",
    "\n",
    "es = es.add_dataframe(\n",
    "    dataframe_name=\"transactions\",\n",
    "    dataframe=transactions_df,\n",
    "    index=\"transaction_id\",\n",
    "    time_index=\"transaction_time\",\n",
    "    logical_types={\n",
    "        \"product_id\": Categorical,\n",
    "        \"zip_code\": PostalCode,\n",
    "    },\n",
    ")\n",
    "es = es.add_dataframe(\n",
    "    dataframe_name=\"products\", dataframe=products_df, index=\"product_id\"\n",
    ")\n",
    "es = es.add_relationship(\"products\", \"product_id\", \"transactions\", \"product_id\")\n",
    "print(es)"
   ]
  },
  {
   "cell_type": "code",
   "execution_count": 3,
   "metadata": {},
   "outputs": [
    {
     "name": "stderr",
     "output_type": "stream",
     "text": [
      "/home/mle-user/mle_projects/mle-mlflow/.venv_mle_mlflow/lib/python3.10/site-packages/woodwork/type_sys/utils.py:33: UserWarning: Could not infer format, so each element will be parsed individually, falling back to `dateutil`. To ensure parsing is consistent and as-expected, please specify a format.\n",
      "  pd.to_datetime(\n",
      "/home/mle-user/mle_projects/mle-mlflow/.venv_mle_mlflow/lib/python3.10/site-packages/woodwork/type_sys/utils.py:33: UserWarning: Could not infer format, so each element will be parsed individually, falling back to `dateutil`. To ensure parsing is consistent and as-expected, please specify a format.\n",
      "  pd.to_datetime(\n",
      "/home/mle-user/mle_projects/mle-mlflow/.venv_mle_mlflow/lib/python3.10/site-packages/woodwork/type_sys/utils.py:33: UserWarning: Could not infer format, so each element will be parsed individually, falling back to `dateutil`. To ensure parsing is consistent and as-expected, please specify a format.\n",
      "  pd.to_datetime(\n",
      "/home/mle-user/mle_projects/mle-mlflow/.venv_mle_mlflow/lib/python3.10/site-packages/woodwork/type_sys/utils.py:33: UserWarning: Could not infer format, so each element will be parsed individually, falling back to `dateutil`. To ensure parsing is consistent and as-expected, please specify a format.\n",
      "  pd.to_datetime(\n"
     ]
    },
    {
     "name": "stdout",
     "output_type": "stream",
     "text": [
      "            zip_code  COUNT(sessions) MONTH(birthday) MONTH(join_date)\n",
      "customer_id                                                           \n",
      "5              60091                6               7                7\n",
      "4              60091                8               8                4\n",
      "1              60091                8               7                4\n",
      "3              13244                6              11                8\n",
      "2              13244                7               8                4\n"
     ]
    }
   ],
   "source": [
    "import featuretools as ft\n",
    "\n",
    "es = ft.demo.load_mock_customer(return_entityset=True)\n",
    "\n",
    "feature_matrix, feature_defs = ft.dfs(\n",
    "    entityset=es,\n",
    "    target_dataframe_name=\"customers\",\n",
    "    agg_primitives=[\"count\"],\n",
    "    trans_primitives=[\"month\"],\n",
    "    max_depth=1,\n",
    ")\n",
    "print(feature_matrix)"
   ]
  },
  {
   "cell_type": "code",
   "execution_count": 16,
   "metadata": {},
   "outputs": [
    {
     "name": "stdout",
     "output_type": "stream",
     "text": [
      "Модель обучена\n",
      "Предсказания выполнены\n",
      "[26.38913799 32.09538287 13.91812859 21.32593238 15.06818433 20.84785056\n",
      " 17.5999834  16.29599161 22.23431333 19.46080943 17.67625938 17.45552101\n",
      "  4.84722516 21.26276627 17.43114543 20.95974555 18.0378348   9.50232635\n",
      " 51.83601578 13.87151486 27.36796413 28.33446407 14.96134201 21.22524486\n",
      " 16.85484318 16.95674416 20.94972938 11.53030645 17.2644404  18.72753579\n",
      " 18.15443696 24.76415472 20.40823422 21.89177    15.41372579 16.44329997\n",
      " 31.47059816 19.9382588  20.30348715 22.06748622 16.00788456 33.68798204\n",
      " 49.47984595 16.962626   25.24676558 15.74522575 14.58072368 23.8773916\n",
      " 18.58454943 26.0726805  17.41995283 35.64313041 17.12718288 25.21555371\n",
      " 46.13556556 25.24815765 15.04938291 31.19210439 24.81819903 19.23128027\n",
      " 26.7166774  35.69672452 31.80190205 15.16259704 24.66099507 14.10883317\n",
      " 15.75034184 23.69094099 29.39821957 12.33581499 21.58343898 27.5002117\n",
      " 11.36887248 16.69441526 21.83071141  6.3764741  19.82855611 46.55108277\n",
      " 13.60471906 13.30044909 18.9698901  14.18036131 17.67239493 11.20905016\n",
      " 19.63097694 26.67115514 15.56458784 25.88285304 26.23189051 18.55760473\n",
      " 23.56876066  9.86124189 20.44753359 16.1782052  30.83386901 20.17194337\n",
      " 29.91378264 11.78061894 12.18526043 15.6480244  22.49475691 22.97484118]\n"
     ]
    }
   ],
   "source": [
    "# Задание 3. Генерация новых признаков с Autofeat\n",
    "from sklearn.model_selection import train_test_split\n",
    "from sklearn.pipeline import Pipeline\n",
    "from sklearn.linear_model import LinearRegression\n",
    "from autofeat import AutoFeatRegressor\n",
    "import pandas as pd\n",
    "import numpy as np\n",
    "\n",
    "# Загрузка данных\n",
    "data_url = \"http://lib.stat.cmu.edu/datasets/boston\"\n",
    "raw_df = pd.read_csv(data_url, sep=\"\\s+\", skiprows=22, header=None)\n",
    "X = np.hstack([raw_df.values[::2, :], raw_df.values[1::2, :2]])\n",
    "y = raw_df.values[1::2, 2]\n",
    "\n",
    "# Разделение данных на обучающий и тестовый наборы\n",
    "X_train, X_test, y_train, y_test = train_test_split(X, y, test_size=0.2, random_state=42)\n",
    "\n",
    "autofeat = AutoFeatRegressor(\n",
    "    max_gb=16,\n",
    "    transformations=[\"log\", \"1+\", \"sqrt\"]\n",
    ")\n",
    "\n",
    "X_train_transformed = autofeat.fit_transform(X_train, y_train)\n",
    "X_test_transformed = autofeat.transform(X_test)\n",
    "\n",
    "model = LinearRegression()\n",
    "model.fit(X_train_transformed, y_train)\n",
    "print(\"Модель обучена\")\n",
    "\n",
    "prediction = model.predict(X_test_transformed)\n",
    "print(\"Предсказания выполнены\")\n",
    "print(prediction)\n"
   ]
  }
 ],
 "metadata": {
  "kernelspec": {
   "display_name": ".venv_mle_mlflow",
   "language": "python",
   "name": "python3"
  },
  "language_info": {
   "codemirror_mode": {
    "name": "ipython",
    "version": 3
   },
   "file_extension": ".py",
   "mimetype": "text/x-python",
   "name": "python",
   "nbconvert_exporter": "python",
   "pygments_lexer": "ipython3",
   "version": "3.10.12"
  }
 },
 "nbformat": 4,
 "nbformat_minor": 2
}
