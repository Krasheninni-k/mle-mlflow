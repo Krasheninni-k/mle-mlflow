{
 "cells": [
  {
   "cell_type": "code",
   "execution_count": 8,
   "metadata": {},
   "outputs": [
    {
     "name": "stdout",
     "output_type": "stream",
     "text": [
      "[<ModelVersion: aliases=[], creation_timestamp=1720272546474, current_stage='Staging', description='', last_updated_timestamp=1720356781810, name='churn_model_krosh', run_id='0fcf0d73735d470194b85acddfcb2172', run_link='', source='s3://s3-student-mle-20240325-54955bf804/7/0fcf0d73735d470194b85acddfcb2172/artifacts/models', status='READY', status_message='', tags={}, user_id='', version='7'>, <ModelVersion: aliases=[], creation_timestamp=1720196258355, current_stage='Production', description='', last_updated_timestamp=1720356781810, name='churn_model_krosh', run_id='36e0ac1ae02e4c13b1c1aff59b6a21d8', run_link='', source='s3://s3-student-mle-20240325-54955bf804/7/36e0ac1ae02e4c13b1c1aff59b6a21d8/artifacts/models', status='READY', status_message='', tags={}, user_id='', version='6'>, <ModelVersion: aliases=[], creation_timestamp=1720195187857, current_stage='None', description='', last_updated_timestamp=1720356781810, name='churn_model_krosh', run_id='1415737648d24feca63d612ea2c65716', run_link='', source='s3://s3-student-mle-20240325-54955bf804/7/1415737648d24feca63d612ea2c65716/artifacts/models', status='READY', status_message='', tags={}, user_id='', version='5'>, <ModelVersion: aliases=[], creation_timestamp=1720193768274, current_stage='None', description='', last_updated_timestamp=1720356781810, name='churn_model_krosh', run_id='d301c2e2616347a68d72d948442dfaf6', run_link='', source='s3://s3-student-mle-20240325-54955bf804/7/d301c2e2616347a68d72d948442dfaf6/artifacts/models', status='READY', status_message='', tags={}, user_id='', version='4'>, <ModelVersion: aliases=[], creation_timestamp=1720193735063, current_stage='None', description='', last_updated_timestamp=1720356781810, name='churn_model_krosh', run_id='e49a0f851fc047f9bc059d6b1bb039d2', run_link='', source='s3://s3-student-mle-20240325-54955bf804/7/e49a0f851fc047f9bc059d6b1bb039d2/artifacts/models', status='READY', status_message='', tags={}, user_id='', version='3'>, <ModelVersion: aliases=[], creation_timestamp=1720193720812, current_stage='None', description='', last_updated_timestamp=1720356781810, name='churn_model_krosh', run_id='772f1909fe3646a0aabc0a34a3ff0f8a', run_link='', source='s3://s3-student-mle-20240325-54955bf804/7/772f1909fe3646a0aabc0a34a3ff0f8a/artifacts/models', status='READY', status_message='', tags={}, user_id='', version='2'>, <ModelVersion: aliases=[], creation_timestamp=1720193566388, current_stage='None', description='', last_updated_timestamp=1720356781810, name='churn_model_krosh', run_id='a5c387e7fde54d2b8015a288228e50c1', run_link='', source='s3://s3-student-mle-20240325-54955bf804/7/a5c387e7fde54d2b8015a288228e50c1/artifacts/models', status='READY', status_message='', tags={}, user_id='', version='1'>]\n",
      "Model info:\n",
      " [<ModelVersion: aliases=[], creation_timestamp=1720193566388, current_stage='None', description='', last_updated_timestamp=1720356781810, name='churn_model_krosh', run_id='a5c387e7fde54d2b8015a288228e50c1', run_link='', source='s3://s3-student-mle-20240325-54955bf804/7/a5c387e7fde54d2b8015a288228e50c1/artifacts/models', status='READY', status_message='', tags={}, user_id='', version='1'>, <ModelVersion: aliases=[], creation_timestamp=1720193720812, current_stage='None', description='', last_updated_timestamp=1720356781810, name='churn_model_krosh', run_id='772f1909fe3646a0aabc0a34a3ff0f8a', run_link='', source='s3://s3-student-mle-20240325-54955bf804/7/772f1909fe3646a0aabc0a34a3ff0f8a/artifacts/models', status='READY', status_message='', tags={}, user_id='', version='2'>, <ModelVersion: aliases=[], creation_timestamp=1720193735063, current_stage='None', description='', last_updated_timestamp=1720356781810, name='churn_model_krosh', run_id='e49a0f851fc047f9bc059d6b1bb039d2', run_link='', source='s3://s3-student-mle-20240325-54955bf804/7/e49a0f851fc047f9bc059d6b1bb039d2/artifacts/models', status='READY', status_message='', tags={}, user_id='', version='3'>, <ModelVersion: aliases=[], creation_timestamp=1720193768274, current_stage='None', description='', last_updated_timestamp=1720356781810, name='churn_model_krosh', run_id='d301c2e2616347a68d72d948442dfaf6', run_link='', source='s3://s3-student-mle-20240325-54955bf804/7/d301c2e2616347a68d72d948442dfaf6/artifacts/models', status='READY', status_message='', tags={}, user_id='', version='4'>, <ModelVersion: aliases=[], creation_timestamp=1720195187857, current_stage='None', description='', last_updated_timestamp=1720356781810, name='churn_model_krosh', run_id='1415737648d24feca63d612ea2c65716', run_link='', source='s3://s3-student-mle-20240325-54955bf804/7/1415737648d24feca63d612ea2c65716/artifacts/models', status='READY', status_message='', tags={}, user_id='', version='5'>, <ModelVersion: aliases=[], creation_timestamp=1720196258355, current_stage='Production', description='', last_updated_timestamp=1720356781810, name='churn_model_krosh', run_id='36e0ac1ae02e4c13b1c1aff59b6a21d8', run_link='', source='s3://s3-student-mle-20240325-54955bf804/7/36e0ac1ae02e4c13b1c1aff59b6a21d8/artifacts/models', status='READY', status_message='', tags={}, user_id='', version='6'>, <ModelVersion: aliases=[], creation_timestamp=1720272546474, current_stage='Staging', description='', last_updated_timestamp=1720356781810, name='churn_model_krosh', run_id='0fcf0d73735d470194b85acddfcb2172', run_link='', source='s3://s3-student-mle-20240325-54955bf804/7/0fcf0d73735d470194b85acddfcb2172/artifacts/models', status='READY', status_message='', tags={}, user_id='', version='7'>]\n",
      "Текущий stage модели 1: Staging\n",
      "Текущий stage модели 2: Production\n"
     ]
    }
   ],
   "source": [
    "import mlflow\n",
    "\n",
    "TRACKING_SERVER_HOST = \"127.0.0.1\"\n",
    "TRACKING_SERVER_PORT = 5000\n",
    "\n",
    "mlflow.set_tracking_uri(f\"http://{TRACKING_SERVER_HOST}:{TRACKING_SERVER_PORT}\")\n",
    "mlflow.set_registry_uri(f\"http://{TRACKING_SERVER_HOST}:{TRACKING_SERVER_PORT}\")\n",
    "\n",
    "client = mlflow.MlflowClient()\n",
    "REGISTRY_MODEL_NAME = \"churn_model_krosh\"\n",
    "\n",
    "models = client.search_model_versions(filter_string=f\"name = '{REGISTRY_MODEL_NAME}'\")\n",
    "print(models)\n",
    "models = sorted(models, key=lambda x: int(x.version), reverse=False)\n",
    "print(f\"Model info:\\n {models}\")\n",
    "\n",
    "model_name_1 = models[-1].name\n",
    "model_version_1 = models[-1].version\n",
    "model_stage_1 = models[-1].current_stage\n",
    "\n",
    "model_name_2 = models[-2].name\n",
    "model_version_2 = models[-2].version\n",
    "model_stage_2 = models[-2].current_stage\n",
    "\n",
    "\n",
    "print(f\"Текущий stage модели 1: {model_stage_1}\")\n",
    "print(f\"Текущий stage модели 2: {model_stage_2}\")\n",
    "\n",
    "# поменяйте статус каждой модели\n",
    "client.transition_model_version_stage(model_name_1, model_version_1, \"production\")\n",
    "client.transition_model_version_stage(model_name_2, model_version_2, \"staging\")\n",
    "\n",
    "# переимнуйте модель в реестре\n",
    "client.rename_registered_model(name=REGISTRY_MODEL_NAME, new_name=f\"{REGISTRY_MODEL_NAME}_b2c\")"
   ]
  }
 ],
 "metadata": {
  "kernelspec": {
   "display_name": ".venv_mle_mlflow",
   "language": "python",
   "name": "python3"
  },
  "language_info": {
   "codemirror_mode": {
    "name": "ipython",
    "version": 3
   },
   "file_extension": ".py",
   "mimetype": "text/x-python",
   "name": "python",
   "nbconvert_exporter": "python",
   "pygments_lexer": "ipython3",
   "version": "3.10.12"
  }
 },
 "nbformat": 4,
 "nbformat_minor": 2
}
