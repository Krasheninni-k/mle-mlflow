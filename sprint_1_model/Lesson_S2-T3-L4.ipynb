{
 "cells": [
  {
   "cell_type": "code",
   "execution_count": 9,
   "metadata": {},
   "outputs": [
    {
     "name": "stdout",
     "output_type": "stream",
     "text": [
      "float64           2\n",
      "int64             2\n",
      "datetime64[ns]    2\n",
      "object            2\n",
      "bool              2\n",
      "Name: count, dtype: int64\n"
     ]
    }
   ],
   "source": [
    "import pandas as pd\n",
    "import numpy as np\n",
    "from datetime import timedelta\n",
    "\n",
    "np.random.seed(42)\n",
    "np.random.default_rng(42)\n",
    "# генерация данных для каждого столбца\n",
    "data = {\n",
    "    'temperature_celsius': np.random.uniform(20, 35, size=100),  # температура в градусах Цельсия (float)\n",
    "    'age_years': np.random.randint(18, 65, size=100),  # возраст в годах (int)\n",
    "    'timestamp_event': [pd.Timestamp('20230101') + timedelta(days=i) for i in range(100)],  # время события (datetime)\n",
    "    'product_category': np.random.choice(['electronics', 'clothing', 'food'], size=100),  # категория продукта (string)\n",
    "    'is_purchased': np.random.choice([True, False], size=100),  # булевое значение приобретения (bool)\n",
    "    'humidity_percentage': np.random.uniform(40, 80, size=100),  # влажность в процентах (float)\n",
    "    'income_usd': np.random.randint(20000, 100000, size=100),  # доход в долларах США (int)\n",
    "    'last_updated': [pd.Timestamp('20240101') + timedelta(days=i) for i in range(100)],  # последнее обновление (datetime)\n",
    "    'product_name': ['Product_' + str(i) for i in range(100)],  # название продукта (string)\n",
    "    'is_subscribed': np.random.choice([True, False], size=100)  # булевое значение подписки (bool)\n",
    "}\n",
    "\n",
    "# создание DataFrame\n",
    "df = pd.DataFrame(data)\n",
    "\n",
    "\n",
    "print(df.dtypes.value_counts())\n",
    "df_int = df.select_dtypes(include='int64')\n",
    "df_float = df.select_dtypes(include='float64')\n",
    "df_bool = df.select_dtypes(include='bool')\n",
    "df_object = df.select_dtypes(include='object')\n",
    "df_date = df.select_dtypes(include='datetime64')"
   ]
  },
  {
   "cell_type": "code",
   "execution_count": 11,
   "metadata": {},
   "outputs": [
    {
     "name": "stdout",
     "output_type": "stream",
     "text": [
      "[[0.60617463]\n",
      " [0.22864281]\n",
      " [0.67170068]\n",
      " [0.61812824]\n",
      " [0.35816272]\n",
      " [0.11355759]\n",
      " [0.6715732 ]\n",
      " [0.5203077 ]\n",
      " [0.77231839]\n",
      " [0.5201635 ]]\n",
      "[[0.55555556]\n",
      " [0.11111111]\n",
      " [0.88888889]\n",
      " [0.66666667]\n",
      " [0.22222222]\n",
      " [0.        ]\n",
      " [0.77777778]\n",
      " [0.44444444]\n",
      " [1.        ]\n",
      " [0.33333333]]\n"
     ]
    },
    {
     "name": "stderr",
     "output_type": "stream",
     "text": [
      "/home/mle-user/mle_projects/mle-mlflow/.venv_mle_mlflow/lib/python3.10/site-packages/sklearn/preprocessing/_data.py:2663: UserWarning: n_quantiles (1000) is greater than the total number of samples (10). n_quantiles is set to n_samples.\n",
      "  warnings.warn(\n"
     ]
    }
   ],
   "source": [
    "from sklearn.preprocessing import QuantileTransformer\n",
    "import numpy as np\n",
    "  \n",
    "X = np.random.rand(10, 1)\n",
    "print(X)\n",
    "transformer = QuantileTransformer()\n",
    "X_transformed = transformer.fit_transform(X)\n",
    "print(X_transformed)"
   ]
  },
  {
   "cell_type": "code",
   "execution_count": 27,
   "metadata": {},
   "outputs": [
    {
     "name": "stdout",
     "output_type": "stream",
     "text": [
      "    is_subscribed\n",
      "0           False\n",
      "1            True\n",
      "2            True\n",
      "3            True\n",
      "4            True\n",
      "..            ...\n",
      "95           True\n",
      "96          False\n",
      "97          False\n",
      "98           True\n",
      "99           True\n",
      "\n",
      "[100 rows x 1 columns]\n",
      "0     0\n",
      "1     1\n",
      "2     1\n",
      "3     1\n",
      "4     1\n",
      "     ..\n",
      "95    1\n",
      "96    0\n",
      "97    0\n",
      "98    1\n",
      "99    1\n",
      "Name: is_subscribed_encoded, Length: 100, dtype: int64\n"
     ]
    },
    {
     "name": "stderr",
     "output_type": "stream",
     "text": [
      "/home/mle-user/mle_projects/mle-mlflow/.venv_mle_mlflow/lib/python3.10/site-packages/sklearn/preprocessing/_label.py:114: DataConversionWarning: A column-vector y was passed when a 1d array was expected. Please change the shape of y to (n_samples, ), for example using ravel().\n",
      "  y = column_or_1d(y, warn=True)\n"
     ]
    }
   ],
   "source": [
    "import pandas as pd\n",
    "import numpy as np\n",
    "from datetime import timedelta\n",
    "from sklearn.preprocessing import Binarizer, StandardScaler, LabelEncoder\n",
    "\n",
    "np.random.seed(42)\n",
    "np.random.default_rng(42)\n",
    "# генерация данных для каждого столбца\n",
    "data = {\n",
    "    'temperature_celsius': np.random.uniform(20, 35, size=100),  # температура в градусах Цельсия (float)\n",
    "    'age_years': np.random.randint(18, 65, size=100),  # возраст в годах (int)\n",
    "    'timestamp_event': [pd.Timestamp('20230101') + timedelta(days=i) for i in range(100)],  # время события (datetime)\n",
    "    'product_category': np.random.choice(['electronics', 'clothing', 'food'], size=100),  # категория продукта (string)\n",
    "    'is_purchased': np.random.choice([True, False], size=100),  # булевое значение приобретения (bool)\n",
    "    'humidity_percentage': np.random.uniform(40, 80, size=100),  # влажность в процентах (float)\n",
    "    'income_usd': np.random.randint(20000, 100000, size=100),  # доход в долларах США (int)\n",
    "    'last_updated': [pd.Timestamp('20240101') + timedelta(days=i) for i in range(100)],  # последнее обновление (datetime)\n",
    "    'product_name': ['Product_' + str(i) for i in range(100)],  # название продукта (string)\n",
    "    'is_subscribed': np.random.choice([True, False], size=100)  # булевое значение подписки (bool)\n",
    "}\n",
    "\n",
    "# создание DataFrame\n",
    "df = pd.DataFrame(data)\n",
    "\n",
    "X = df[['income_usd']]\n",
    "X_mean = X['income_usd'].mean()\n",
    "transformer = Binarizer(threshold=X_mean)\n",
    "df['income_usd_binarized'] = transformer.fit_transform(X)\n",
    "\n",
    "Y = df[['age_years']]\n",
    "scaler = StandardScaler()\n",
    "df['age_years_standarded'] = scaler.fit_transform(Y)\n",
    "\n",
    "Z = df[['is_subscribed']]\n",
    "print(Z)\n",
    "encoder = LabelEncoder()\n",
    "df['is_subscribed_encoded'] = encoder.fit_transform(Z)\n",
    "print(df['is_subscribed_encoded'])"
   ]
  },
  {
   "cell_type": "code",
   "execution_count": 1,
   "metadata": {},
   "outputs": [
    {
     "name": "stdout",
     "output_type": "stream",
     "text": [
      "    income_usd_binarized  age_years_scaled  is_subscribed_0  is_subscribed_1\n",
      "0                    1.0          0.648511              1.0              0.0\n",
      "1                    0.0          1.166728              0.0              1.0\n",
      "2                    1.0          0.648511              0.0              1.0\n",
      "3                    1.0         -1.424355              0.0              1.0\n",
      "4                    0.0          0.500449              0.0              1.0\n",
      "..                   ...               ...              ...              ...\n",
      "95                   0.0         -1.498386              0.0              1.0\n",
      "96                   0.0         -0.313891              1.0              0.0\n",
      "97                   1.0         -0.239860              1.0              0.0\n",
      "98                   0.0          0.648511              0.0              1.0\n",
      "99                   1.0         -1.202263              0.0              1.0\n",
      "\n",
      "[100 rows x 4 columns]\n"
     ]
    }
   ],
   "source": [
    "import pandas as pd\n",
    "import numpy as np\n",
    "from datetime import timedelta\n",
    "from sklearn.preprocessing import Binarizer, StandardScaler, OneHotEncoder\n",
    "from sklearn.compose import ColumnTransformer\n",
    "from sklearn.pipeline import Pipeline\n",
    "\n",
    "np.random.seed(42)\n",
    "np.random.default_rng(42)\n",
    "# генерация данных для каждого столбца\n",
    "data = {\n",
    "    'temperature_celsius': np.random.uniform(20, 35, size=100),  # температура в градусах Цельсия (float)\n",
    "    'age_years': np.random.randint(18, 65, size=100),  # возраст в годах (int)\n",
    "    'timestamp_event': [pd.Timestamp('20230101') + timedelta(days=i) for i in range(100)],  # время события (datetime)\n",
    "    'product_category': np.random.choice(['electronics', 'clothing', 'food'], size=100),  # категория продукта (string)\n",
    "    'is_purchased': np.random.choice([True, False], size=100),  # булевое значение приобретения (bool)\n",
    "    'humidity_percentage': np.random.uniform(40, 80, size=100),  # влажность в процентах (float)\n",
    "    'income_usd': np.random.randint(20000, 100000, size=100),  # доход в долларах США (int)\n",
    "    'last_updated': [pd.Timestamp('20240101') + timedelta(days=i) for i in range(100)],  # последнее обновление (datetime)\n",
    "    'product_name': ['Product_' + str(i) for i in range(100)],  # название продукта (string)\n",
    "    'is_subscribed': np.random.choice([True, False], size=100)  # булевое значение подписки (bool)\n",
    "}\n",
    "\n",
    "df = pd.DataFrame(data)\n",
    "\n",
    "# создание ColumnTransformer с преобразованиями для различных колонок\n",
    "preprocessor = ColumnTransformer(\n",
    "    transformers=[\n",
    "        ('one', Binarizer(threshold=df['income_usd'].mean()), ['income_usd']),\n",
    "        ('two', StandardScaler(), ['age_years']),\n",
    "        ('three', OneHotEncoder(), ['is_subscribed']),\n",
    "    ])\n",
    "\n",
    "# создание Pipeline с преобразованиями\n",
    "pipe = Pipeline(steps=[('preprocessor', preprocessor)])\n",
    "\n",
    "transformed_data = pipe.fit_transform(df)\n",
    "\n",
    "transformed_df = pd.DataFrame(\n",
    "    transformed_data, \n",
    "    columns=['income_usd_binarized', 'age_years_scaled', 'is_subscribed_0', 'is_subscribed_1']\n",
    ")\n",
    "print(transformed_df)"
   ]
  },
  {
   "cell_type": "code",
   "execution_count": 1,
   "metadata": {},
   "outputs": [
    {
     "ename": "NameError",
     "evalue": "name 'df' is not defined",
     "output_type": "error",
     "traceback": [
      "\u001b[0;31m---------------------------------------------------------------------------\u001b[0m",
      "\u001b[0;31mNameError\u001b[0m                                 Traceback (most recent call last)",
      "Cell \u001b[0;32mIn[1], line 2\u001b[0m\n\u001b[1;32m      1\u001b[0m \u001b[38;5;66;03m# 1. Извлечение признаков из даты\u001b[39;00m\n\u001b[0;32m----> 2\u001b[0m df[\u001b[38;5;124m'\u001b[39m\u001b[38;5;124mYear\u001b[39m\u001b[38;5;124m'\u001b[39m] \u001b[38;5;241m=\u001b[39m \u001b[43mdf\u001b[49m[\u001b[38;5;124m'\u001b[39m\u001b[38;5;124mRandom_Dates\u001b[39m\u001b[38;5;124m'\u001b[39m]\u001b[38;5;241m.\u001b[39mdt\u001b[38;5;241m.\u001b[39myear\n\u001b[1;32m      3\u001b[0m df[\u001b[38;5;124m'\u001b[39m\u001b[38;5;124mMonth\u001b[39m\u001b[38;5;124m'\u001b[39m] \u001b[38;5;241m=\u001b[39m df[\u001b[38;5;124m'\u001b[39m\u001b[38;5;124mRandom_Dates\u001b[39m\u001b[38;5;124m'\u001b[39m]\u001b[38;5;241m.\u001b[39mdt\u001b[38;5;241m.\u001b[39mmonth\n\u001b[1;32m      4\u001b[0m df[\u001b[38;5;124m'\u001b[39m\u001b[38;5;124mDay\u001b[39m\u001b[38;5;124m'\u001b[39m] \u001b[38;5;241m=\u001b[39m df[\u001b[38;5;124m'\u001b[39m\u001b[38;5;124mRandom_Dates\u001b[39m\u001b[38;5;124m'\u001b[39m]\u001b[38;5;241m.\u001b[39mdt\u001b[38;5;241m.\u001b[39mday\n",
      "\u001b[0;31mNameError\u001b[0m: name 'df' is not defined"
     ]
    }
   ],
   "source": [
    "# 1. Извлечение признаков из даты\n",
    "df['Year'] = df['Random_Dates'].dt.year\n",
    "df['Month'] = df['Random_Dates'].dt.month\n",
    "df['Day'] = df['Random_Dates'].dt.day\n",
    "df['Weekday'] = df['Random_Dates'].dt.weekday\n",
    "df['Hour'] = df['Random_Dates'].dt.hour\n",
    "\n",
    "# 2. Расчёт временных интервалов (разница между двумя датами)\n",
    "df['Date_2'] = pd.to_datetime(np.random.randint(start_date.value, end_date.value, n_samples))\n",
    "df['Date_Difference'] = (df['Date_2'] - df['Random_Dates']).dt.days\n",
    "\n",
    "# 3. Скользящие окна и накопительные статистики\n",
    "rolling_mean = df['Date_Difference'].rolling(window=7).mean()\n",
    "cumulative_sum = df['Date_Difference'].cumsum()\n",
    "\n",
    "# 4. Периодичность и тренды\n",
    "df['Trend'] = df['Random_Dates'].dt.month * np.random.rand(n_samples)  # пример генерации тренда\n",
    "df['Season'] = df['Random_Dates'].dt.month % 4  # деление на 4 для сезонов (в качестве примера)\n",
    "\n",
    "# 5. Преобразование времени в категориальные признаки с помощью OneHotEncoder\n",
    "one_hot_encoder = OneHotEncoder(sparse=False, drop='first')\n",
    "month_encoded = one_hot_encoder.fit_transform(df[['Month']])\n",
    "columns = [f\"Month_{month}\" for month in one_hot_encoder.categories_[0][1:]]\n",
    "month_encoded_df = pd.DataFrame(month_encoded, columns=columns)\n",
    "\n",
    "print(df.head(20))"
   ]
  },
  {
   "cell_type": "code",
   "execution_count": 12,
   "metadata": {},
   "outputs": [
    {
     "name": "stdout",
     "output_type": "stream",
     "text": [
      "          Date  Temperature_Celsius  Month  Weekday  Hour   \n",
      "0   2023-01-01             4.981605      1        6     0  \\\n",
      "1   2023-01-02            28.028572      1        0     0   \n",
      "2   2023-01-03            19.279758      1        1     0   \n",
      "3   2023-01-04            13.946339      1        2     0   \n",
      "4   2023-01-05            -3.759254      1        3     0   \n",
      "..         ...                  ...    ...      ...   ...   \n",
      "360 2023-12-27             5.526797     12        2     0   \n",
      "361 2023-12-28            15.731529     12        3     0   \n",
      "362 2023-12-29             8.330116     12        4     0   \n",
      "363 2023-12-30            11.824672     12        5     0   \n",
      "364 2023-12-31            27.658592     12        6     0   \n",
      "\n",
      "     Rolling_Mean_7_Days  Cumulative_Sum  Monthly_Sum  Monthly_Mean  \n",
      "0                    NaN        4.981605   240.618521      7.761888  \n",
      "1                    NaN       33.010177   240.618521      7.761888  \n",
      "2                    NaN       52.289935   240.618521      7.761888  \n",
      "3                    NaN       66.236274   240.618521      7.761888  \n",
      "4                    NaN       62.477020   240.618521      7.761888  \n",
      "..                   ...             ...          ...           ...  \n",
      "360             8.452282     3463.041704   269.370008      8.689355  \n",
      "361            11.724964     3478.773232   269.370008      8.689355  \n",
      "362            10.672585     3487.103348   269.370008      8.689355  \n",
      "363            13.638902     3498.928020   269.370008      8.689355  \n",
      "364            15.671412     3526.586612   269.370008      8.689355  \n",
      "\n",
      "[365 rows x 9 columns]\n"
     ]
    }
   ],
   "source": [
    "import pandas as pd\n",
    "import numpy as np\n",
    "from sklearn.preprocessing import OneHotEncoder\n",
    "\n",
    "# генерация случайных данных о температурах за год\n",
    "np.random.seed(42)\n",
    "np.random.default_rng(42)\n",
    "start_date = pd.Timestamp('2023-01-01')\n",
    "end_date = pd.Timestamp('2023-12-31')\n",
    "dates = pd.date_range(start=start_date, end=end_date)\n",
    "temperatures = np.random.uniform(low=-10.0, high=30.0, size=len(dates))\n",
    "temperature_data = pd.DataFrame({'Date': dates, 'Temperature_Celsius': temperatures})\n",
    "\n",
    "# ваш код для предобработки временных признаков #\n",
    "# 1. Извлечение признаков из даты\n",
    "temperature_data['Month'] = temperature_data['Date'].dt.month\n",
    "temperature_data['Weekday'] = temperature_data['Date'].dt.weekday\n",
    "temperature_data['Hour'] = temperature_data['Date'].dt.hour\n",
    "\n",
    "# 2. Скользящие окна и накопительные статистики\n",
    "temperature_data['Rolling_Mean_7_Days'] = temperature_data['Temperature_Celsius'].rolling(window=7).mean()\n",
    "temperature_data['Cumulative_Sum'] = temperature_data['Temperature_Celsius'].cumsum()\n",
    "\n",
    "# 3. Периодичность и тренды\n",
    "temperature_data['Monthly_Sum'] = temperature_data.groupby('Month')['Temperature_Celsius'].transform('sum')\n",
    "temperature_data['Monthly_Mean'] = temperature_data.groupby('Month')['Temperature_Celsius'].transform('mean')\n",
    "\n",
    "# вывод обработанных данных\n",
    "print(temperature_data)"
   ]
  }
 ],
 "metadata": {
  "kernelspec": {
   "display_name": ".venv_mle_mlflow",
   "language": "python",
   "name": "python3"
  },
  "language_info": {
   "codemirror_mode": {
    "name": "ipython",
    "version": 3
   },
   "file_extension": ".py",
   "mimetype": "text/x-python",
   "name": "python",
   "nbconvert_exporter": "python",
   "pygments_lexer": "ipython3",
   "version": "3.10.12"
  }
 },
 "nbformat": 4,
 "nbformat_minor": 2
}
