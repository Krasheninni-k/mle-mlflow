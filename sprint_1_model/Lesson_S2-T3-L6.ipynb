{
 "cells": [
  {
   "cell_type": "code",
   "execution_count": 1,
   "metadata": {},
   "outputs": [
    {
     "name": "stdout",
     "output_type": "stream",
     "text": [
      "{'np_vectorize': 16, 'for_idx': 39, 'for_row': 84, 'for_itertuples': 11, 'native_pandas': 0, 'apply': 7}\n"
     ]
    }
   ],
   "source": [
    "# УРОК 6. УСКОРЕНИЕ РАБОТЫ С ПРИЗНАКАМИ\n",
    "from datetime import datetime, timedelta\n",
    "\n",
    "import pandas as pd\n",
    "import numpy as np\n",
    "\n",
    "# генерация массива случайных дат в заданном диапазоне\n",
    "start_date = datetime(2022, 1, 1)\n",
    "end_date = datetime.now()\n",
    "random_dates = [\n",
    "    start_date + timedelta(days=np.random.randint((end_date - start_date).days))\n",
    "    for _ in range(1000000)\n",
    "]\n",
    "\n",
    "# создание DataFrame с датами и случайными числами\n",
    "data = {'random_dates': random_dates, 'random_numbers': np.random.rand(1000000)}\n",
    "df = pd.DataFrame(data)\n",
    "\n",
    "# словарь для хранения времени выполнения каждого метода\n",
    "methods_time = {}\n",
    "\n",
    "# определение и измерение времени выполнения для разных подходов\n",
    "for method in ['np_vectorize', 'for_idx', 'for_row', 'for_itertuples', 'native_pandas', 'apply']:\n",
    "    \n",
    "    if method == 'np_vectorize':\n",
    "        start_time = datetime.now()\n",
    "\n",
    "        # векторизованная функция для вычисления разницы в днях\n",
    "        def np_diff_date_days(current_day, row):\n",
    "            return (current_day - row).days\n",
    "        current_date_numpy = np.datetime64(datetime.now())\n",
    "        np_diff_date_days_vectorize = np.vectorize(np_diff_date_days, otypes=[np.int64])\n",
    "        temp = np_diff_date_days_vectorize(current_date_numpy, df[\"random_dates\"])\n",
    "\n",
    "        methods_time[method] = (datetime.now() - start_time).seconds\n",
    "    \n",
    "    elif method == 'for_idx':\n",
    "        start_time = datetime.now()\n",
    "        \n",
    "        temp = []\n",
    "        current_date = datetime.now()\n",
    "        # проход по индексам и вычисление разницы в днях для каждой даты\n",
    "        for idx in range(df.shape[0]):\n",
    "            temp.append((current_date - df['random_dates'].iloc[idx]).days)\n",
    "\n",
    "        methods_time[method] = (datetime.now() - start_time).seconds\n",
    "        \n",
    "    elif method == 'for_row':\n",
    "        start_time = datetime.now()\n",
    "        \n",
    "        temp = []\n",
    "        current_date = datetime.now()\n",
    "        # проход по строкам DataFrame и вычисление разницы в днях\n",
    "        for _, row in df.iterrows():\n",
    "            temp.append((current_date - row['random_dates']).days)\n",
    "\n",
    "        methods_time[method] = (datetime.now() - start_time).seconds\n",
    "    \n",
    "    elif method == 'for_itertuples':\n",
    "        start_time = datetime.now()\n",
    "        \n",
    "        temp = []\n",
    "        current_date = datetime.now()\n",
    "        # проход по строкам DataFrame через итератор кортежей для вычисления разницы\n",
    "        for row in df.itertuples():\n",
    "            temp.append((current_date - row.random_dates).days)\n",
    "\n",
    "        methods_time[method] = (datetime.now() - start_time).seconds\n",
    "\n",
    "    elif method == 'native_pandas':\n",
    "        start_time = datetime.now()\n",
    "\n",
    "        # использование встроенных методов pandas для вычисления разницы в днях\n",
    "        temp = (current_date - df['random_dates']).dt.days\n",
    "        \n",
    "        methods_time[method] = (datetime.now() - start_time).seconds\n",
    "    \n",
    "    elif method == 'apply':\n",
    "        start_time = datetime.now()\n",
    "        \n",
    "        # применение lambda-функции для вычисления разницы в днях\n",
    "        temp = df['random_dates'].apply(lambda x: (current_date - x).days)\n",
    "        \n",
    "        methods_time[method] = (datetime.now() - start_time).seconds\n",
    "\n",
    "# вывод времени выполнения для каждого метода\n",
    "print(methods_time)"
   ]
  },
  {
   "cell_type": "code",
   "execution_count": 2,
   "metadata": {},
   "outputs": [
    {
     "name": "stdout",
     "output_type": "stream",
     "text": [
      "{'np_vectorize': 2159, 'for_idx': 564523, 'for_row': 16698, 'for_itertuples': 673137, 'native_pandas': 349762, 'apply': 434019}\n"
     ]
    }
   ],
   "source": [
    "# импортируем необходимые библиотеки\n",
    "import math\n",
    "from datetime import datetime\n",
    "\n",
    "import numpy as np\n",
    "import pandas as pd\n",
    "\n",
    "# создаём DataFrame с миллионом случайных чисел\n",
    "df = pd.DataFrame(data={'random_numbers': np.random.rand(1000000)})\n",
    "# словарь для хранения времени выполнения каждого метода\n",
    "methods_time = {}\n",
    "\n",
    "# перебираем различные методы обработки данных\n",
    "for method in ['np_vectorize', 'for_idx', 'for_row', 'for_itertuples', 'native_pandas', 'apply']:\n",
    "    \n",
    "    if method == 'np_vectorize':\n",
    "        start_time = datetime.now()  # засекаем время начала выполнения\n",
    "\n",
    "        temp = np.log(df['random_numbers'])  # применяем векторизованное вычисление логарифма с помощью NumPy\n",
    "\n",
    "        methods_time[method] = (datetime.now() - start_time).microseconds  # сохраняем время выполнения\n",
    "    \n",
    "    elif method == 'for_idx':\n",
    "        start_time = datetime.now()\n",
    "        \n",
    "        temp = []\n",
    "        for idx in range(0, df.shape[0], 1):  # проходим по индексам DataFrame\n",
    "            temp.append(math.log(df['random_numbers'].iloc[idx]))  # вычисляем логарифм для каждого числа\n",
    "\n",
    "        methods_time[method] = (datetime.now() - start_time).microseconds\n",
    "        \n",
    "    elif method == 'for_row':\n",
    "        start_time = datetime.now()\n",
    "        \n",
    "        temp = []\n",
    "        for i, row in df.iterrows():  # проходим по строкам DataFrame\n",
    "            temp.append(math.log(row['random_numbers']))  # вычисляем логарифм для каждого числа\n",
    "\n",
    "        methods_time[method] = (datetime.now() - start_time).microseconds\n",
    "    \n",
    "    elif method == 'for_itertuples':\n",
    "        start_time = datetime.now()\n",
    "        \n",
    "        temp = []\n",
    "        for row in df.itertuples():  # проходим по строкам DataFrame через итератор кортежей\n",
    "            temp.append(math.log(row.random_numbers))  # вычисляем логарифм для каждого числа\n",
    "\n",
    "        methods_time[method] = (datetime.now() - start_time).microseconds\n",
    "\n",
    "    elif method == 'native_pandas':\n",
    "        start_time = datetime.now()\n",
    "\n",
    "        temp = df['random_numbers'].apply(lambda x: math.log(x))  # используем метод apply для применения функции к каждому значению\n",
    "        \n",
    "        methods_time[method] = (datetime.now() - start_time).microseconds\n",
    "    \n",
    "    elif method == 'apply':\n",
    "        start_time = datetime.now()\n",
    "        \n",
    "        temp = df['random_numbers'].apply(lambda x: math.log(x))  # повторяем предыдущий метод для сравнения\n",
    "        \n",
    "        methods_time[method] = (datetime.now() - start_time).microseconds\n",
    "\n",
    "# выводим словарь с временем выполнения каждого метода\n",
    "print(methods_time)"
   ]
  },
  {
   "cell_type": "code",
   "execution_count": 3,
   "metadata": {},
   "outputs": [
    {
     "name": "stdout",
     "output_type": "stream",
     "text": [
      "   A   B  A_squared\n",
      "0  1  10          1\n",
      "1  2  20          4\n",
      "2  3  30          9\n",
      "3  4  40         16\n",
      "4  5  50         25\n"
     ]
    }
   ],
   "source": [
    "import pandas as pd\n",
    "\n",
    "# создание DataFrame\n",
    "data = {'A': [1, 2, 3, 4, 5],\n",
    "        'B': [10, 20, 30, 40, 50]}\n",
    "\n",
    "df = pd.DataFrame(data)\n",
    "\n",
    "# функция, которую мы хотим применить к столбцу\n",
    "def square_value(x):\n",
    "    return x ** 2\n",
    "\n",
    "# применение функции к столбцу 'A' с помощью apply()\n",
    "df['A_squared'] = df['A'].apply(square_value)\n",
    "\n",
    "print(df)"
   ]
  },
  {
   "cell_type": "code",
   "execution_count": 4,
   "metadata": {},
   "outputs": [
    {
     "name": "stdout",
     "output_type": "stream",
     "text": [
      "   product_id  price  discounted_price\n",
      "0           1     97              87.3\n",
      "1           2    167             150.3\n",
      "2           3    117             105.3\n",
      "3           4    153             137.7\n",
      "4           5     59              53.1\n",
      "5           6     71              63.9\n",
      "6           7     86              77.4\n",
      "7           8    137             123.3\n",
      "8           9    120             108.0\n",
      "9          10    138             124.2\n"
     ]
    }
   ],
   "source": [
    "# Задание 1\n",
    "import pandas as pd\n",
    "import numpy as np\n",
    "\n",
    "# генерация данных о продажах\n",
    "np.random.seed(0)\n",
    "sales_data = pd.DataFrame({\n",
    "    'product_id': np.arange(1, 11),\n",
    "    'price': np.random.randint(50, 200, (10,))\n",
    "})\n",
    "\n",
    "def discount(x):\n",
    "    return x * 0.9\n",
    "sales_data['discounted_price'] = sales_data['price'].apply(discount)\n",
    "print(sales_data)"
   ]
  },
  {
   "cell_type": "code",
   "execution_count": 5,
   "metadata": {},
   "outputs": [
    {
     "name": "stdout",
     "output_type": "stream",
     "text": [
      "   employee_id  start_year  employment_duration\n",
      "0            1        2015                    9\n",
      "1            2        2010                   14\n",
      "2            3        2013                   11\n",
      "3            4        2021                    3\n",
      "4            5        2013                   11\n",
      "5            6        2017                    7\n",
      "6            7        2019                    5\n",
      "7            8        2013                   11\n",
      "8            9        2015                    9\n",
      "9           10        2012                   12\n"
     ]
    }
   ],
   "source": [
    "# Задание 2\n",
    "import pandas as pd\n",
    "import numpy as np\n",
    "from datetime import datetime\n",
    "\n",
    "# генерация данных о сотрудниках\n",
    "np.random.seed(0)\n",
    "employee_info = pd.DataFrame({\n",
    "    'employee_id': np.arange(1, 11),\n",
    "    'start_year': np.random.randint(2010, 2022, (10,))\n",
    "})\n",
    "\n",
    "def calculate_employment_duration(start_year):\n",
    "    return datetime.now().year - start_year\n",
    "employee_info['employment_duration'] = employee_info['start_year'].apply(calculate_employment_duration)\n",
    "print(employee_info)"
   ]
  },
  {
   "cell_type": "code",
   "execution_count": 6,
   "metadata": {},
   "outputs": [
    {
     "name": "stdout",
     "output_type": "stream",
     "text": [
      "Vectorized with custom function:\n",
      "[ 1  4  9 16 25]\n",
      "\n",
      "Vectorized with numpy square:\n",
      "0     1\n",
      "1     4\n",
      "2     9\n",
      "3    16\n",
      "4    25\n",
      "Name: A, dtype: int64\n"
     ]
    }
   ],
   "source": [
    "import pandas as pd\n",
    "import numpy as np\n",
    "\n",
    "# Создание DataFrame\n",
    "data = {'A': [1, 2, 3, 4, 5]}\n",
    "df = pd.DataFrame(data)\n",
    "\n",
    "# пользовательская функция для возведения в квадрат\n",
    "def square_value(x):\n",
    "    return x ** 2\n",
    "\n",
    "# применение np.vectorize к df[\"A\"] с пользовательской функцией\n",
    "vectorized_func = np.vectorize(square_value)\n",
    "result_custom = vectorized_func(df[\"A\"])\n",
    "\n",
    "print(\"Vectorized with custom function:\")\n",
    "print(result_custom)\n",
    "\n",
    "# применение np.square к df[\"A\"]\n",
    "result_np_square = np.square(df[\"A\"])\n",
    "\n",
    "print(\"\\nVectorized with numpy square:\")\n",
    "print(result_np_square)"
   ]
  },
  {
   "cell_type": "code",
   "execution_count": null,
   "metadata": {},
   "outputs": [
    {
     "name": "stdout",
     "output_type": "stream",
     "text": [
      "   temperature_Celsius  temperature_Fahrenheit\n",
      "0                   24                    75.2\n",
      "1                   27                    80.6\n",
      "2                   33                    91.4\n",
      "3                  -20                    -4.0\n",
      "4                  -17                     1.4\n",
      "5                   39                   102.2\n",
      "6                  -17                     1.4\n",
      "7                   19                    66.2\n",
      "8                  -11                    12.2\n",
      "9                   -1                    30.2\n"
     ]
    }
   ],
   "source": [
    "# Задание 3\n",
    "import pandas as pd\n",
    "import numpy as np\n",
    "\n",
    "# генерация DataFrame с температурой в градусах Цельсия\n",
    "np.random.seed(0)\n",
    "data = {'temperature_Celsius': np.random.randint(-20, 40, size=10)}\n",
    "df = pd.DataFrame(data)\n",
    "\n",
    "def calculate(temp):\n",
    "    return temp * 9 / 5 + 32\n",
    "calc_vec = np.vectorize(calculate)\n",
    "df['temperature_Fahrenheit'] = calc_vec(df['temperature_Celsius'])\n",
    "print(df)"
   ]
  },
  {
   "cell_type": "code",
   "execution_count": 2,
   "metadata": {},
   "outputs": [
    {
     "name": "stdout",
     "output_type": "stream",
     "text": [
      "   scores grades\n",
      "0      92      A\n",
      "1      78      C\n",
      "2      64      D\n",
      "3      81      B\n",
      "4      53      F\n",
      "5      95      A\n",
      "6      88      B\n"
     ]
    }
   ],
   "source": [
    "# Задание 4.\n",
    "import pandas as pd\n",
    "import numpy as np\n",
    "\n",
    "# создание DataFrame с оценками студентов\n",
    "data = {'scores': np.array([92, 78, 64, 81, 53, 95, 88])}\n",
    "df = pd.DataFrame(data)\n",
    "\n",
    "# функция для перевода числовой оценки в буквенный эквивалент\n",
    "def to_grade(score):\n",
    "    if score >= 90:\n",
    "        return \"A\"\n",
    "    elif score >= 80:\n",
    "        return \"B\"\n",
    "    elif score >= 70:\n",
    "        return \"C\"\n",
    "    elif score >= 60:\n",
    "        return \"D\"\n",
    "    else:\n",
    "        return \"F\"\n",
    "df['grades'] = np.vectorize(to_grade)(data['scores'])\n",
    "print(df)"
   ]
  }
 ],
 "metadata": {
  "kernelspec": {
   "display_name": ".venv_mle_mlflow",
   "language": "python",
   "name": "python3"
  },
  "language_info": {
   "codemirror_mode": {
    "name": "ipython",
    "version": 3
   },
   "file_extension": ".py",
   "mimetype": "text/x-python",
   "name": "python",
   "nbconvert_exporter": "python",
   "pygments_lexer": "ipython3",
   "version": "3.10.12"
  }
 },
 "nbformat": 4,
 "nbformat_minor": 2
}
